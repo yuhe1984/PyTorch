{
 "cells": [
  {
   "cell_type": "code",
   "execution_count": 37,
   "metadata": {},
   "outputs": [],
   "source": [
    "import torch\n",
    "import torch.nn as nn\n",
    "import torch.utils.data as Data\n",
    "import torchvision"
   ]
  },
  {
   "cell_type": "code",
   "execution_count": 38,
   "metadata": {
    "collapsed": true
   },
   "outputs": [],
   "source": [
    "# torch.manual_seed(1)"
   ]
  },
  {
   "cell_type": "code",
   "execution_count": 39,
   "metadata": {
    "collapsed": true
   },
   "outputs": [],
   "source": [
    "EPOCH = 1\n",
    "BATCH_SIZE = 50\n",
    "LR = 0.001\n",
    "DOWNLOAD_MNIST = False"
   ]
  },
  {
   "cell_type": "code",
   "execution_count": 40,
   "metadata": {},
   "outputs": [],
   "source": [
    "train_data = torchvision.datasets.MNIST(root='./mnist/', train=True, transform=torchvision.transforms.ToTensor(), download=DOWNLOAD_MNIST,)\n",
    "train_loader = Data.DataLoader(dataset=train_data, batch_size=BATCH_SIZE, shuffle=True)"
   ]
  },
  {
   "cell_type": "code",
   "execution_count": 41,
   "metadata": {
    "collapsed": true
   },
   "outputs": [],
   "source": [
    "test_data = torchvision.datasets.MNIST(root='./mnist/', train=False)"
   ]
  },
  {
   "cell_type": "code",
   "execution_count": 42,
   "metadata": {},
   "outputs": [
    {
     "name": "stderr",
     "output_type": "stream",
     "text": [
      "D:\\Anaconda\\lib\\site-packages\\torchvision\\datasets\\mnist.py:58: UserWarning: test_data has been renamed data\n",
      "  warnings.warn(\"test_data has been renamed data\")\n",
      "D:\\Anaconda\\lib\\site-packages\\torchvision\\datasets\\mnist.py:48: UserWarning: test_labels has been renamed targets\n",
      "  warnings.warn(\"test_labels has been renamed targets\")\n"
     ]
    }
   ],
   "source": [
    "test_x = torch.unsqueeze(test_data.test_data, dim=1).type(torch.FloatTensor)[:2000].cuda()/255.\n",
    "test_y = test_data.test_labels[:2000].cuda()"
   ]
  },
  {
   "cell_type": "code",
   "execution_count": 43,
   "metadata": {
    "collapsed": true
   },
   "outputs": [],
   "source": [
    "class CNN(nn.Module):\n",
    "    def __init__(self):\n",
    "        super(CNN, self).__init__()\n",
    "        self.conv1 = nn.Sequential(    \n",
    "            nn.Conv2d(\n",
    "                in_channels=1,         \n",
    "                out_channels=16,      \n",
    "                kernel_size=5,         \n",
    "                stride=1,            \n",
    "                padding=2,             \n",
    "            ),                         \n",
    "            nn.ReLU(),                \n",
    "            nn.MaxPool2d(kernel_size=2),   \n",
    "        )\n",
    "        self.conv2 = nn.Sequential(         \n",
    "            nn.Conv2d(16, 32, 5, 1, 2), \n",
    "            nn.ReLU(),                 \n",
    "            nn.MaxPool2d(2),          \n",
    "        )\n",
    "        self.out = nn.Linear(32 * 7 * 7, 10)  \n",
    "        \n",
    "    def forward(self, x):\n",
    "        x = self.conv1(x)\n",
    "        x = self.conv2(x)\n",
    "        x = x.view(x.size(0), -1)\n",
    "        output = self.out(x)\n",
    "        return output"
   ]
  },
  {
   "cell_type": "code",
   "execution_count": 46,
   "metadata": {
    "collapsed": true
   },
   "outputs": [],
   "source": [
    "cnn = CNN()"
   ]
  },
  {
   "cell_type": "code",
   "execution_count": 47,
   "metadata": {
    "scrolled": true
   },
   "outputs": [
    {
     "data": {
      "text/plain": [
       "CNN(\n",
       "  (conv1): Sequential(\n",
       "    (0): Conv2d(1, 16, kernel_size=(5, 5), stride=(1, 1), padding=(2, 2))\n",
       "    (1): ReLU()\n",
       "    (2): MaxPool2d(kernel_size=2, stride=2, padding=0, dilation=1, ceil_mode=False)\n",
       "  )\n",
       "  (conv2): Sequential(\n",
       "    (0): Conv2d(16, 32, kernel_size=(5, 5), stride=(1, 1), padding=(2, 2))\n",
       "    (1): ReLU()\n",
       "    (2): MaxPool2d(kernel_size=2, stride=2, padding=0, dilation=1, ceil_mode=False)\n",
       "  )\n",
       "  (out): Linear(in_features=1568, out_features=10, bias=True)\n",
       ")"
      ]
     },
     "execution_count": 47,
     "metadata": {},
     "output_type": "execute_result"
    }
   ],
   "source": [
    "cnn.cuda()    # Moves all model parameters and buffers to the GPU."
   ]
  },
  {
   "cell_type": "code",
   "execution_count": 50,
   "metadata": {
    "collapsed": true
   },
   "outputs": [],
   "source": [
    "optimizer = torch.optim.Adam(cnn.parameters(), lr=LR)\n",
    "loss_func = nn.CrossEntropyLoss()"
   ]
  },
  {
   "cell_type": "code",
   "execution_count": 51,
   "metadata": {},
   "outputs": [
    {
     "name": "stdout",
     "output_type": "stream",
     "text": [
      "Epoch:  0 | train loss: 2.2956 |test accuracy: 0.10\n",
      "Epoch:  0 | train loss: 0.3038 |test accuracy: 0.81\n",
      "Epoch:  0 | train loss: 0.4323 |test accuracy: 0.89\n",
      "Epoch:  0 | train loss: 0.2538 |test accuracy: 0.91\n",
      "Epoch:  0 | train loss: 0.1714 |test accuracy: 0.92\n",
      "Epoch:  0 | train loss: 0.1670 |test accuracy: 0.93\n",
      "Epoch:  0 | train loss: 0.2198 |test accuracy: 0.95\n",
      "Epoch:  0 | train loss: 0.1572 |test accuracy: 0.95\n",
      "Epoch:  0 | train loss: 0.0836 |test accuracy: 0.95\n",
      "Epoch:  0 | train loss: 0.2603 |test accuracy: 0.96\n",
      "Epoch:  0 | train loss: 0.0825 |test accuracy: 0.96\n",
      "Epoch:  0 | train loss: 0.0660 |test accuracy: 0.96\n",
      "Epoch:  0 | train loss: 0.0877 |test accuracy: 0.97\n",
      "Epoch:  0 | train loss: 0.1301 |test accuracy: 0.96\n",
      "Epoch:  0 | train loss: 0.0091 |test accuracy: 0.97\n",
      "Epoch:  0 | train loss: 0.2104 |test accuracy: 0.96\n",
      "Epoch:  0 | train loss: 0.0680 |test accuracy: 0.97\n",
      "Epoch:  0 | train loss: 0.2466 |test accuracy: 0.98\n",
      "Epoch:  0 | train loss: 0.1272 |test accuracy: 0.98\n",
      "Epoch:  0 | train loss: 0.0702 |test accuracy: 0.97\n",
      "Epoch:  0 | train loss: 0.0744 |test accuracy: 0.98\n",
      "Epoch:  0 | train loss: 0.0637 |test accuracy: 0.98\n",
      "Epoch:  0 | train loss: 0.0041 |test accuracy: 0.98\n",
      "Epoch:  0 | train loss: 0.0571 |test accuracy: 0.98\n"
     ]
    }
   ],
   "source": [
    "for epoch in range(EPOCH):\n",
    "    for step, (x, y) in enumerate(train_loader):\n",
    "        \n",
    "        b_x = x.cuda()\n",
    "        b_y = y.cuda()\n",
    "        \n",
    "        output = cnn(b_x)            \n",
    "        loss = loss_func(output, b_y) \n",
    "        optimizer.zero_grad()         \n",
    "        loss.backward()               \n",
    "        optimizer.step()        \n",
    "        \n",
    "        if step % 50 == 0:\n",
    "            test_output = cnn(test_x)\n",
    "            \n",
    "            pred_y = torch.max(test_output, 1)[1].cuda().data # Move the computation in GPU\n",
    "            \n",
    "            accuracy = float((pred_y == test_y).type(torch.FloatTensor).sum()) / float(test_y.size(0))\n",
    "            print('Epoch: ', epoch, '| train loss: %.4f' % loss.data.cpu().numpy(), '|test accuracy: %.2f' % accuracy)"
   ]
  },
  {
   "cell_type": "code",
   "execution_count": 52,
   "metadata": {
    "collapsed": true
   },
   "outputs": [],
   "source": [
    "test_output = cnn(test_x[:10])"
   ]
  },
  {
   "cell_type": "code",
   "execution_count": 55,
   "metadata": {},
   "outputs": [
    {
     "name": "stdout",
     "output_type": "stream",
     "text": [
      "tensor([7, 2, 1, 0, 4, 1, 4, 9, 5, 9], device='cuda:0') prediction number\n",
      "tensor([7, 2, 1, 0, 4, 1, 4, 9, 5, 9], device='cuda:0') real number\n"
     ]
    }
   ],
   "source": [
    "pred_y = torch.max(test_output, 1)[1].cuda().data\n",
    "\n",
    "print(pred_y, 'prediction number')\n",
    "print(test_y[:10], 'real number')"
   ]
  },
  {
   "cell_type": "code",
   "execution_count": null,
   "metadata": {
    "collapsed": true
   },
   "outputs": [],
   "source": []
  }
 ],
 "metadata": {
  "kernelspec": {
   "display_name": "Python 3",
   "language": "python",
   "name": "python3"
  },
  "language_info": {
   "codemirror_mode": {
    "name": "ipython",
    "version": 3
   },
   "file_extension": ".py",
   "mimetype": "text/x-python",
   "name": "python",
   "nbconvert_exporter": "python",
   "pygments_lexer": "ipython3",
   "version": "3.6.3"
  }
 },
 "nbformat": 4,
 "nbformat_minor": 2
}
