{
 "cells": [
  {
   "cell_type": "code",
   "execution_count": 1,
   "metadata": {
    "collapsed": true
   },
   "outputs": [],
   "source": [
    "import torch\n",
    "import torch.utils.data as Data"
   ]
  },
  {
   "cell_type": "code",
   "execution_count": 2,
   "metadata": {},
   "outputs": [
    {
     "data": {
      "text/plain": [
       "<torch._C.Generator at 0x1db1ff10b30>"
      ]
     },
     "execution_count": 2,
     "metadata": {},
     "output_type": "execute_result"
    }
   ],
   "source": [
    "torch.manual_seed(1)"
   ]
  },
  {
   "cell_type": "code",
   "execution_count": 3,
   "metadata": {
    "collapsed": true
   },
   "outputs": [],
   "source": [
    "BATCH_SIZE = 5"
   ]
  },
  {
   "cell_type": "code",
   "execution_count": 4,
   "metadata": {
    "collapsed": true
   },
   "outputs": [],
   "source": [
    "x = torch.linspace(1, 10, 10)\n",
    "y = torch.linspace(1, 10, 10)"
   ]
  },
  {
   "cell_type": "code",
   "execution_count": 13,
   "metadata": {
    "collapsed": true
   },
   "outputs": [],
   "source": [
    "torch_dataset = Data.TensorDataset(x, y) # 定义一个数据库\n",
    "loader = Data.DataLoader(\n",
    "    dataset=torch_dataset,    # torch TensorDataset format\n",
    "    batch_size=BATCH_SIZE,    # mini bath size\n",
    "    shuffle=True,             # random shuffle for training\n",
    "    num_workers=2,            # subprocesses for loading data\n",
    ")"
   ]
  },
  {
   "cell_type": "code",
   "execution_count": 14,
   "metadata": {
    "collapsed": true
   },
   "outputs": [],
   "source": [
    "def show_batch():\n",
    "    for epoch in range(3):   # tain entrie dataset 3 times\n",
    "        for step, (batch_x, batch_y) in enumerate(loader):  # for each training step\n",
    "            # train your data...\n",
    "            print('Epoch: ', epoch, '| Step: ', step, '| batch x: ',\n",
    "                 batch_x.numpy(), '| batch y: ', batch_y.numpy())"
   ]
  },
  {
   "cell_type": "code",
   "execution_count": 15,
   "metadata": {},
   "outputs": [
    {
     "name": "stdout",
     "output_type": "stream",
     "text": [
      "Epoch:  0 | Step:  0 | batch x:  [ 9.  8.  2.  4. 10.] | batch y:  [ 9.  8.  2.  4. 10.]\n",
      "Epoch:  0 | Step:  1 | batch x:  [5. 3. 7. 1. 6.] | batch y:  [5. 3. 7. 1. 6.]\n",
      "Epoch:  1 | Step:  0 | batch x:  [ 9.  5.  4.  6. 10.] | batch y:  [ 9.  5.  4.  6. 10.]\n",
      "Epoch:  1 | Step:  1 | batch x:  [8. 7. 1. 2. 3.] | batch y:  [8. 7. 1. 2. 3.]\n",
      "Epoch:  2 | Step:  0 | batch x:  [ 3.  5.  8. 10.  4.] | batch y:  [ 3.  5.  8. 10.  4.]\n",
      "Epoch:  2 | Step:  1 | batch x:  [6. 2. 1. 9. 7.] | batch y:  [6. 2. 1. 9. 7.]\n"
     ]
    }
   ],
   "source": [
    "if __name__ == '__main__':\n",
    "    show_batch()"
   ]
  },
  {
   "cell_type": "code",
   "execution_count": null,
   "metadata": {
    "collapsed": true
   },
   "outputs": [],
   "source": []
  }
 ],
 "metadata": {
  "kernelspec": {
   "display_name": "Python 3",
   "language": "python",
   "name": "python3"
  },
  "language_info": {
   "codemirror_mode": {
    "name": "ipython",
    "version": 3
   },
   "file_extension": ".py",
   "mimetype": "text/x-python",
   "name": "python",
   "nbconvert_exporter": "python",
   "pygments_lexer": "ipython3",
   "version": "3.6.3"
  }
 },
 "nbformat": 4,
 "nbformat_minor": 2
}
