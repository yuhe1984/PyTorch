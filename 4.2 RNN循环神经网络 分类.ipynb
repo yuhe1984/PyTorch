{
 "cells": [
  {
   "cell_type": "code",
   "execution_count": 2,
   "metadata": {
    "collapsed": true
   },
   "outputs": [],
   "source": [
    "import torch\n",
    "from torch import nn\n",
    "import torchvision.datasets as dsets\n",
    "import torchvision.transforms as transforms\n",
    "import matplotlib.pyplot as plt"
   ]
  },
  {
   "cell_type": "code",
   "execution_count": 3,
   "metadata": {
    "collapsed": true
   },
   "outputs": [],
   "source": [
    "EPOCH = 1    # train the training data n times, to save time, we just train 1 epoch\n",
    "BATCH_SIZE = 64    \n",
    "TIME_STEP = 28     # rnn time step / image height\n",
    "INPUT_SIZE = 28    # rnn input size / image width\n",
    "LR = 0.01          # learning rate\n",
    "DOWNLOAD_MNIST = False    # set to True if haven't download the data"
   ]
  },
  {
   "cell_type": "code",
   "execution_count": 4,
   "metadata": {
    "collapsed": true
   },
   "outputs": [],
   "source": [
    "train_data = dsets.MNIST(  # 训练数据集\n",
    "    root='./mnist/',\n",
    "    train=True,\n",
    "    transform=transforms.ToTensor(),\n",
    "    \n",
    "    download=DOWNLOAD_MNIST,\n",
    ")"
   ]
  },
  {
   "cell_type": "code",
   "execution_count": 5,
   "metadata": {},
   "outputs": [
    {
     "name": "stdout",
     "output_type": "stream",
     "text": [
      "torch.Size([60000, 28, 28])\n",
      "torch.Size([60000])\n"
     ]
    },
    {
     "name": "stderr",
     "output_type": "stream",
     "text": [
      "D:\\Anaconda\\lib\\site-packages\\torchvision\\datasets\\mnist.py:53: UserWarning: train_data has been renamed data\n",
      "  warnings.warn(\"train_data has been renamed data\")\n",
      "D:\\Anaconda\\lib\\site-packages\\torchvision\\datasets\\mnist.py:43: UserWarning: train_labels has been renamed targets\n",
      "  warnings.warn(\"train_labels has been renamed targets\")\n"
     ]
    },
    {
     "data": {
      "image/png": "[encoded data removed]",
      "text/plain": [
       "<matplotlib.figure.Figure at 0x2a06f7d9898>"
      ]
     },
     "metadata": {},
     "output_type": "display_data"
    }
   ],
   "source": [
    "# plot one example\n",
    "print(train_data.train_data.size())\n",
    "print(train_data.train_labels.size())\n",
    "plt.imshow(train_data.train_data[0].numpy(), cmap='gray')\n",
    "plt.title('%i' % train_data.train_labels[0])\n",
    "plt.show()    # 黑色的地方值都是0，白色地方值都大于0"
   ]
  },
  {
   "cell_type": "code",
   "execution_count": 7,
   "metadata": {},
   "outputs": [],
   "source": [
    "# Data Loader for easy mini_batch return in training, the image batch shape will be (50, 1, 28, 28)\n",
    "train_loader = torch.utils.data.DataLoader(dataset=train_data, batch_size=BATCH_SIZE, shuffle=True)"
   ]
  },
  {
   "cell_type": "code",
   "execution_count": 9,
   "metadata": {},
   "outputs": [
    {
     "name": "stderr",
     "output_type": "stream",
     "text": [
      "D:\\Anaconda\\lib\\site-packages\\torchvision\\datasets\\mnist.py:58: UserWarning: test_data has been renamed data\n",
      "  warnings.warn(\"test_data has been renamed data\")\n",
      "D:\\Anaconda\\lib\\site-packages\\torchvision\\datasets\\mnist.py:48: UserWarning: test_labels has been renamed targets\n",
      "  warnings.warn(\"test_labels has been renamed targets\")\n"
     ]
    }
   ],
   "source": [
    "# pick 2000 samples to speed up testring\n",
    "test_data = dsets.MNIST(root='./mnist/', train=False, transform=transforms.ToTensor())  # 测试数据集\n",
    "test_x = test_data.test_data.type(torch.FloatTensor)[:2000]/255. # shape from (2000, 28, 28) to (2000, 1, 28, 28)\n",
    "test_y = test_data.test_labels.numpy()[:2000]"
   ]
  },
  {
   "cell_type": "code",
   "execution_count": 10,
   "metadata": {
    "collapsed": true
   },
   "outputs": [],
   "source": [
    "class RNN(nn.Module):\n",
    "    def __init__(self):\n",
    "        super(RNN, self).__init__()\n",
    "        \n",
    "        self.rnn = nn.LSTM(    # if use nn.RNN(), it hardly learns\n",
    "            input_size=INPUT_SIZE,\n",
    "            hidden_size=64,    # rnn hidden unit\n",
    "            num_layers=1,      # number of rnn layer\n",
    "            batch_first=True,  # input & output will has batch size as 1s dimension. e.g. (batch, time_step, input_size)\n",
    "        )\n",
    "        \n",
    "        self.out = nn.Linear(64, 10)\n",
    "        \n",
    "    def forward(self, x):\n",
    "        # x shape (batch, time_step, input_size)\n",
    "        # r_out shape (batch, time_step, output_size)\n",
    "        # h_n shape (n_layers, batch, hidden_size)\n",
    "        # h_c shape (n_layers, batch, hidden_size)\n",
    "        r_out, (h_n, h_c) = self.rnn(x, None)    # None represents zero initial hidden state\n",
    "\n",
    "        # choose r_out at the last time step\n",
    "        out = self.out(r_out[:, -1, :]) # (batch,time_step_step,input)\n",
    "        return out "
   ]
  },
  {
   "cell_type": "code",
   "execution_count": 11,
   "metadata": {},
   "outputs": [
    {
     "name": "stdout",
     "output_type": "stream",
     "text": [
      "RNN(\n",
      "  (rnn): LSTM(28, 64, batch_first=True)\n",
      "  (out): Linear(in_features=64, out_features=10, bias=True)\n",
      ")\n"
     ]
    }
   ],
   "source": [
    "rnn = RNN()\n",
    "print(rnn)"
   ]
  },
  {
   "cell_type": "code",
   "execution_count": 15,
   "metadata": {},
   "outputs": [],
   "source": [
    "optimizer = torch.optim.Adam(rnn.parameters(), lr=LR)    #optomize all ann parameters\n",
    "loss_func = nn.CrossEntropyLoss()                        # the target label is not one-hotted"
   ]
  },
  {
   "cell_type": "code",
   "execution_count": 20,
   "metadata": {},
   "outputs": [
    {
     "name": "stdout",
     "output_type": "stream",
     "text": [
      "Epoch:  0 | train loss: 2.3091 |test accuracy: 0.12\n",
      "Epoch:  0 | train loss: 1.0616 |test accuracy: 0.59\n",
      "Epoch:  0 | train loss: 0.5586 |test accuracy: 0.76\n",
      "Epoch:  0 | train loss: 0.6470 |test accuracy: 0.86\n",
      "Epoch:  0 | train loss: 0.3339 |test accuracy: 0.89\n",
      "Epoch:  0 | train loss: 0.6313 |test accuracy: 0.87\n",
      "Epoch:  0 | train loss: 0.3175 |test accuracy: 0.91\n",
      "Epoch:  0 | train loss: 0.1387 |test accuracy: 0.93\n",
      "Epoch:  0 | train loss: 0.2679 |test accuracy: 0.92\n",
      "Epoch:  0 | train loss: 0.2803 |test accuracy: 0.93\n",
      "Epoch:  0 | train loss: 0.2896 |test accuracy: 0.94\n",
      "Epoch:  0 | train loss: 0.0796 |test accuracy: 0.95\n",
      "Epoch:  0 | train loss: 0.2160 |test accuracy: 0.95\n",
      "Epoch:  0 | train loss: 0.1384 |test accuracy: 0.95\n",
      "Epoch:  0 | train loss: 0.1533 |test accuracy: 0.95\n",
      "Epoch:  0 | train loss: 0.3631 |test accuracy: 0.96\n",
      "Epoch:  0 | train loss: 0.2476 |test accuracy: 0.94\n",
      "Epoch:  0 | train loss: 0.1864 |test accuracy: 0.95\n",
      "Epoch:  0 | train loss: 0.1846 |test accuracy: 0.96\n"
     ]
    }
   ],
   "source": [
    "# training anf testing\n",
    "for epoch in range(EPOCH):\n",
    "    for step, (b_x, b_y) in enumerate(train_loader):    # gives batch size\n",
    "        b_x = b_x.view(-1, 28, 28)    # reshape x to (batch, time_step, input_size)\n",
    "        \n",
    "        output = rnn(b_x)             # rnn output\n",
    "        \n",
    "        loss = loss_func(output, b_y) # cross entropy loss\n",
    "        optimizer.zero_grad()         # clear gradients for next train\n",
    "        loss.backward()               # backpropagation, compute gradients\n",
    "        optimizer.step()              # apply gradients\n",
    "        \n",
    "        if step % 50 == 0:\n",
    "            test_output = rnn(test_x)\n",
    "            pred_y = torch.max(test_output, 1)[1].data.numpy()\n",
    "            accuracy = float((pred_y == test_y).astype(int).sum()) / float(test_y.size)\n",
    "            print('Epoch: ', epoch, '| train loss: %.4f' % loss.data.numpy(), '|test accuracy: %.2f' % accuracy)"
   ]
  },
  {
   "cell_type": "code",
   "execution_count": 26,
   "metadata": {},
   "outputs": [
    {
     "name": "stdout",
     "output_type": "stream",
     "text": [
      "[7 2 1 0 4 1 4 9 6 9] prediction number\n",
      "[7 2 1 0 4 1 4 9 5 9] real number\n"
     ]
    }
   ],
   "source": [
    "# print 10 predictions from test data\n",
    "test_output = rnn(test_x[:10].view(-1, 28, 28))\n",
    "pred_y = torch.max(test_output, 1)[1].data.numpy()\n",
    "print(pred_y, 'prediction number')\n",
    "print(test_y[:10], 'real number')"
   ]
  },
  {
   "cell_type": "code",
   "execution_count": null,
   "metadata": {
    "collapsed": true
   },
   "outputs": [],
   "source": []
  }
 ],
 "metadata": {
  "kernelspec": {
   "display_name": "Python 3",
   "language": "python",
   "name": "python3"
  },
  "language_info": {
   "codemirror_mode": {
    "name": "ipython",
    "version": 3
   },
   "file_extension": ".py",
   "mimetype": "text/x-python",
   "name": "python",
   "nbconvert_exporter": "python",
   "pygments_lexer": "ipython3",
   "version": "3.6.3"
  }
 },
 "nbformat": 4,
 "nbformat_minor": 2
}
